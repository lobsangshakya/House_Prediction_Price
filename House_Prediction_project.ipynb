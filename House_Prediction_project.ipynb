{
 "cells": [
  {
   "cell_type": "code",
   "execution_count": null,
   "id": "65407c5d-0d46-4976-ae57-c1ea3148bc2b",
   "metadata": {},
   "outputs": [],
   "source": [
    "!pip install matplotlib\n",
    "!pip install seaborn"
   ]
  },
  {
   "cell_type": "code",
   "execution_count": null,
   "id": "94d14271-ab58-428c-922a-62fac9e6a4e5",
   "metadata": {},
   "outputs": [],
   "source": [
    "import numpy as np\n",
    "import pandas as pd\n",
    "import matplotlib.pyplot as plt\n",
    "import seaborn as sns"
   ]
  },
  {
   "cell_type": "code",
   "execution_count": null,
   "id": "57878782-f44f-49c2-9052-5e762802fbb7",
   "metadata": {},
   "outputs": [],
   "source": [
    "data = pd.read_csv(\"housing.csv\")"
   ]
  },
  {
   "cell_type": "code",
   "execution_count": null,
   "id": "fa1c752d-11fc-40e9-ae6a-709d32d00662",
   "metadata": {},
   "outputs": [],
   "source": [
    "data.head()"
   ]
  },
  {
   "cell_type": "code",
   "execution_count": null,
   "id": "87e39e47-c04e-47ab-a0fe-d5663b98bf83",
   "metadata": {},
   "outputs": [],
   "source": [
    "data.info()"
   ]
  },
  {
   "cell_type": "code",
   "execution_count": null,
   "id": "5621f658-5caa-461b-83d2-694f13e60186",
   "metadata": {},
   "outputs": [],
   "source": [
    "data.dropna(inplace = True)"
   ]
  },
  {
   "cell_type": "code",
   "execution_count": null,
   "id": "3d830670-96b3-4748-b798-4d9de0fb6fb7",
   "metadata": {},
   "outputs": [],
   "source": [
    "data.info()"
   ]
  },
  {
   "cell_type": "code",
   "execution_count": null,
   "id": "2eda620c-f49e-4e69-a1e5-8180e1d87be1",
   "metadata": {},
   "outputs": [],
   "source": [
    "# !pip install scikit-learn\n",
    "from sklearn.model_selection import train_test_split\n",
    "X = data.drop(['median_house_value'], axis = 1)\n",
    "Y = data['median_house_value']"
   ]
  },
  {
   "cell_type": "code",
   "execution_count": null,
   "id": "ea27557b-e6fc-4829-bec4-1bbef74aefa5",
   "metadata": {},
   "outputs": [],
   "source": [
    "X"
   ]
  },
  {
   "cell_type": "code",
   "execution_count": null,
   "id": "491477ed-1124-4c6b-b185-e6a97248dedc",
   "metadata": {},
   "outputs": [],
   "source": [
    "Y"
   ]
  },
  {
   "cell_type": "code",
   "execution_count": null,
   "id": "77aac644-3a87-4804-af6e-589b330e80aa",
   "metadata": {},
   "outputs": [],
   "source": [
    "data.tail()"
   ]
  },
  {
   "cell_type": "code",
   "execution_count": null,
   "id": "2033a325-8791-4692-84de-84d992461841",
   "metadata": {},
   "outputs": [],
   "source": [
    "X_train, X_test, Y_train, Y_test = train_test_split(X, Y, test_size = 0.2)"
   ]
  },
  {
   "cell_type": "code",
   "execution_count": null,
   "id": "0690177f-ab90-4d46-9323-093773acef79",
   "metadata": {},
   "outputs": [],
   "source": [
    "train_data = X_train.join(Y_train)"
   ]
  },
  {
   "cell_type": "code",
   "execution_count": null,
   "id": "7213d2e7-12f5-4bfa-9d03-957e4494203c",
   "metadata": {},
   "outputs": [],
   "source": [
    "print(train_data)"
   ]
  },
  {
   "cell_type": "code",
   "execution_count": null,
   "id": "3bd56f0b-5ff0-4031-b307-8331e86f94bd",
   "metadata": {},
   "outputs": [],
   "source": [
    "train_data.hist(figsize=(15, 8))"
   ]
  },
  {
   "cell_type": "code",
   "execution_count": null,
   "id": "b8c241ba-9bd6-4e86-b9a2-76c47d45c9e7",
   "metadata": {},
   "outputs": [],
   "source": [
    "plt.figure(figsize=(15,8))\n",
    "sns.heatmap(train_data.select_dtypes(include=['int64','float64']).corr(), annot=True, cmap=\"YlGnBu\")\n",
    "plt.show()"
   ]
  },
  {
   "cell_type": "code",
   "execution_count": null,
   "id": "81ca61b8-b5f6-4007-85cb-5299f5ac9bca",
   "metadata": {},
   "outputs": [],
   "source": [
    "train_data['total_rooms'] = np.log(train_data['total_rooms'] + 1)\n",
    "train_data['total_bedrooms'] = np.log(train_data['total_bedrooms'] + 1)\n",
    "train_data['population'] = np.log(train_data['population'] + 1)\n",
    "train_data['households'] = np.log(train_data['households'] + 1)"
   ]
  },
  {
   "cell_type": "code",
   "execution_count": null,
   "id": "d66eeec6-8f59-46fc-95c2-95878ac869bb",
   "metadata": {},
   "outputs": [],
   "source": []
  }
 ],
 "metadata": {
  "kernelspec": {
   "display_name": "Python 3 (ipykernel)",
   "language": "python",
   "name": "python3"
  },
  "language_info": {
   "codemirror_mode": {
    "name": "ipython",
    "version": 3
   },
   "file_extension": ".py",
   "mimetype": "text/x-python",
   "name": "python",
   "nbconvert_exporter": "python",
   "pygments_lexer": "ipython3",
   "version": "3.13.5"
  }
 },
 "nbformat": 4,
 "nbformat_minor": 5
}
